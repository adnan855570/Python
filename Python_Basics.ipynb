{
  "nbformat": 4,
  "nbformat_minor": 0,
  "metadata": {
    "colab": {
      "provenance": [],
      "authorship_tag": "ABX9TyPvzi9IZu99I0d1vqfoavqi",
      "include_colab_link": true
    },
    "kernelspec": {
      "name": "python3",
      "display_name": "Python 3"
    },
    "language_info": {
      "name": "python"
    }
  },
  "cells": [
    {
      "cell_type": "markdown",
      "metadata": {
        "id": "view-in-github",
        "colab_type": "text"
      },
      "source": [
        "<a href=\"https://colab.research.google.com/github/adnan855570/Python/blob/main/Python_Basics.ipynb\" target=\"_parent\"><img src=\"https://colab.research.google.com/assets/colab-badge.svg\" alt=\"Open In Colab\"/></a>"
      ]
    },
    {
      "cell_type": "markdown",
      "source": [
        "# Data types & Operators"
      ],
      "metadata": {
        "id": "omKJ9HgFrnqM"
      }
    },
    {
      "cell_type": "code",
      "execution_count": 1,
      "metadata": {
        "id": "1gp9EsrNwZ_W",
        "colab": {
          "base_uri": "https://localhost:8080/"
        },
        "outputId": "19d1bf8f-9f46-4f0f-a8d7-134a5b3b0e46"
      },
      "outputs": [
        {
          "output_type": "stream",
          "name": "stdout",
          "text": [
            "Welcome 11\n"
          ]
        }
      ],
      "source": [
        "message = \"Welcome\"\n",
        "number = '11'\n",
        "print(message , number)"
      ]
    },
    {
      "cell_type": "code",
      "source": [
        "type(message)\n"
      ],
      "metadata": {
        "colab": {
          "base_uri": "https://localhost:8080/"
        },
        "id": "pYsgRLHdsWvz",
        "outputId": "08dd876f-5eef-48b6-bfa2-44bdf16e6a96"
      },
      "execution_count": 2,
      "outputs": [
        {
          "output_type": "execute_result",
          "data": {
            "text/plain": [
              "str"
            ]
          },
          "metadata": {},
          "execution_count": 2
        }
      ]
    },
    {
      "cell_type": "code",
      "source": [
        "type(number)"
      ],
      "metadata": {
        "colab": {
          "base_uri": "https://localhost:8080/"
        },
        "id": "zZBN_oM8sa2s",
        "outputId": "b05f198e-20cf-47ef-e522-397e44f9b6e2"
      },
      "execution_count": 3,
      "outputs": [
        {
          "output_type": "execute_result",
          "data": {
            "text/plain": [
              "str"
            ]
          },
          "metadata": {},
          "execution_count": 3
        }
      ]
    },
    {
      "cell_type": "code",
      "source": [
        "secondNumber = 11\n",
        "type(secondNumber)"
      ],
      "metadata": {
        "colab": {
          "base_uri": "https://localhost:8080/"
        },
        "id": "NUYEbmfbser_",
        "outputId": "c6816a87-7d8b-4b3c-eea8-54a6608fcfac"
      },
      "execution_count": 4,
      "outputs": [
        {
          "output_type": "execute_result",
          "data": {
            "text/plain": [
              "int"
            ]
          },
          "metadata": {},
          "execution_count": 4
        }
      ]
    },
    {
      "cell_type": "markdown",
      "source": [
        "# Boolean data type"
      ],
      "metadata": {
        "id": "H7ukgIlsuZNJ"
      }
    },
    {
      "cell_type": "code",
      "source": [
        "yes = True\n",
        "print(yes)\n",
        "type(yes)"
      ],
      "metadata": {
        "colab": {
          "base_uri": "https://localhost:8080/"
        },
        "id": "q0kUimnuskJo",
        "outputId": "f5b66b5a-e940-4b18-f1c6-3d0ea9e48ba4"
      },
      "execution_count": 5,
      "outputs": [
        {
          "output_type": "stream",
          "name": "stdout",
          "text": [
            "True\n"
          ]
        },
        {
          "output_type": "execute_result",
          "data": {
            "text/plain": [
              "bool"
            ]
          },
          "metadata": {},
          "execution_count": 5
        }
      ]
    },
    {
      "cell_type": "markdown",
      "source": [
        "# Operators"
      ],
      "metadata": {
        "id": "_oUJFAcqu0tm"
      }
    },
    {
      "cell_type": "code",
      "source": [],
      "metadata": {
        "id": "CbGzofsgu2J-"
      },
      "execution_count": null,
      "outputs": []
    }
  ]
}